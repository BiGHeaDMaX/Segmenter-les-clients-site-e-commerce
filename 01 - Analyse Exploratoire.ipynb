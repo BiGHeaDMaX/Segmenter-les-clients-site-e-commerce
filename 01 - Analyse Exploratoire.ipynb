{
 "cells": [
  {
   "cell_type": "markdown",
   "metadata": {},
   "source": [
    "# **Analyse Exploratoire**"
   ]
  },
  {
   "cell_type": "code",
   "execution_count": 1,
   "metadata": {},
   "outputs": [],
   "source": [
    "# Bibliothèques de base\n",
    "import pandas as pd\n",
    "import numpy as np\n",
    "\n",
    "# Visualisations\n",
    "import seaborn as sns\n",
    "import matplotlib.pyplot as plt\n",
    "\n",
    "# Utilisé pour la fonction haversine_distance()\n",
    "import math\n",
    "\n",
    "# Utilisés lors de l'ACP\n",
    "from sklearn.decomposition import PCA\n",
    "from sklearn.preprocessing import StandardScaler\n",
    "\n",
    "# Servira pour faire l'ANOVA\n",
    "import statsmodels.api as sm\n",
    "from statsmodels.formula.api import ols\n",
    "\n",
    "# Pour faire tests de normalité\n",
    "from scipy.stats import shapiro\n",
    "\n",
    "# Utilisé pour passer des données au log avant ANOVA\n",
    "from sklearn.preprocessing import FunctionTransformer\n",
    "\n",
    "# Utilisé pour savoir si le fichier excel d'export existe déjà\n",
    "import os\n",
    "\n",
    "# Je désactive le copy warning, en m'étant au préalable assuré que les traitements étaient corrects\n",
    "pd.options.mode.chained_assignment = None  # default='warn'"
   ]
  },
  {
   "cell_type": "markdown",
   "metadata": {},
   "source": [
    "## **Importation des datasets**"
   ]
  },
  {
   "cell_type": "code",
   "execution_count": 2,
   "metadata": {},
   "outputs": [
    {
     "name": "stdout",
     "output_type": "stream",
     "text": [
      "Importation terminée\n"
     ]
    }
   ],
   "source": [
    "customers = pd.read_csv(\"dataset\\olist_customers_dataset.csv\", sep=',')\n",
    "geolocation = pd.read_csv(\"dataset\\olist_geolocation_dataset.csv\", sep=',')\n",
    "order_items = pd.read_csv(\"dataset\\olist_order_items_dataset.csv\", sep=',')\n",
    "order_payments = pd.read_csv(\"dataset\\olist_order_payments_dataset.csv\", sep=',')\n",
    "order_reviews = pd.read_csv(\"dataset\\olist_order_reviews_dataset.csv\", sep=',')\n",
    "orders = pd.read_csv(\"dataset\\olist_orders_dataset.csv\", sep=',')\n",
    "products = pd.read_csv(\"dataset\\olist_products_dataset.csv\", sep=',')\n",
    "sellers = pd.read_csv(\"dataset\\olist_sellers_dataset.csv\", sep=',')\n",
    "product_category_name_translation = pd.read_csv(\"dataset\\product_category_name_translation.csv\", sep=',')\n",
    "\n",
    "print('Importation terminée')"
   ]
  },
  {
   "cell_type": "markdown",
   "metadata": {},
   "source": [
    "## **Pré-traitement des datasets avant fusion**"
   ]
  },
  {
   "cell_type": "markdown",
   "metadata": {},
   "source": [
    "### **Traitement de *geolocation***\n",
    "\n",
    "Je supprime *geolocation_city* et *geolocation_state* que je ne vais pas utiliser.<br>\n",
    "Je regroupe par *geolocation_zip_code_prefix* en faisant la moyen pour les coordonnées GPS."
   ]
  },
  {
   "cell_type": "code",
   "execution_count": 3,
   "metadata": {},
   "outputs": [
    {
     "name": "stdout",
     "output_type": "stream",
     "text": [
      "Lignes avant traitement : 1000163\n",
      "Lignes après traitement : 19015\n",
      "Valeurs manquantes : 0\n"
     ]
    }
   ],
   "source": [
    "print('Lignes avant traitement :', len(geolocation))\n",
    "geolocation = geolocation.drop(['geolocation_city', 'geolocation_state'], axis=1)\n",
    "geolocation = geolocation.groupby('geolocation_zip_code_prefix').mean()\n",
    "geolocation = geolocation.reset_index() # pour remettre geolocation_zip_code_prefix en tant que colonne\n",
    "print('Lignes après traitement :', len(geolocation))\n",
    "print('Valeurs manquantes :', geolocation.isnull().sum().sum())"
   ]
  },
  {
   "cell_type": "markdown",
   "metadata": {},
   "source": [
    "### **Traitement de *customers***\n",
    "\n",
    "Je fusionne avec *geolocation* pour récupérer les coordonnées GPS à partir du zip code prefix<br>\n",
    "Je renomme *geolocation_lat* et *geolocation_lng* en *customer_lat* et *customer_lng*<br>\n",
    "Je ne conserve au final que *customer_id*, *customer_unique_id*, *customer_lat* et *customer_lng*"
   ]
  },
  {
   "cell_type": "code",
   "execution_count": 4,
   "metadata": {},
   "outputs": [
    {
     "name": "stdout",
     "output_type": "stream",
     "text": [
      "Valeurs manquantes : 0\n"
     ]
    }
   ],
   "source": [
    "customers = customers.merge(geolocation, left_on='customer_zip_code_prefix', right_on='geolocation_zip_code_prefix', how='left')\n",
    "customers.rename(columns={\"geolocation_lat\": \"customer_lat\", \"geolocation_lng\": \"customer_lng\"}, inplace=True)\n",
    "customers = customers[['customer_id', 'customer_unique_id', 'customer_lat', 'customer_lng']]\n",
    "# Il y a quelques valeurs manquantes dans customer_lat/customer_lng : j'impute par la moyenne\n",
    "customers['customer_lat'].loc[customers['customer_lat'].isnull() == True] = customers['customer_lat'].mean()\n",
    "customers['customer_lng'].loc[customers['customer_lng'].isnull() == True] = customers['customer_lng'].mean()\n",
    "print('Valeurs manquantes :', customers.isnull().sum().sum())"
   ]
  },
  {
   "cell_type": "markdown",
   "metadata": {},
   "source": [
    "### **Traitement de *sellers***\n",
    "\n",
    "Je fusionne avec *geolocation* pour récupérer les coordonnées GPS à partir du zip code prefix<br>\n",
    "Je renomme *geolocation_lat* et *geolocation_lng* en *seller_lat* et *seller_lng*<br>\n",
    "Je ne conserve au final que *seller_id*, *seller_lat*, et *seller_lng*"
   ]
  },
  {
   "cell_type": "code",
   "execution_count": 5,
   "metadata": {},
   "outputs": [
    {
     "name": "stdout",
     "output_type": "stream",
     "text": [
      "Valeurs manquantes : 0\n"
     ]
    }
   ],
   "source": [
    "sellers = sellers.merge(geolocation, left_on='seller_zip_code_prefix', right_on='geolocation_zip_code_prefix', how='left')\n",
    "sellers.rename(columns={\"geolocation_lat\": \"seller_lat\", \"geolocation_lng\": \"seller_lng\"}, inplace=True)\n",
    "sellers = sellers[['seller_id', 'seller_lat', 'seller_lng']]\n",
    "# Il y a quelques valeurs manquantes dans seller_lat/seller_lng : j'impute par la moyenne\n",
    "sellers['seller_lat'].loc[sellers['seller_lat'].isnull() == True] = sellers['seller_lat'].mean()\n",
    "sellers['seller_lng'].loc[sellers['seller_lng'].isnull() == True] = sellers['seller_lng'].mean()\n",
    "print('Valeurs manquantes :', sellers.isnull().sum().sum())"
   ]
  },
  {
   "cell_type": "markdown",
   "metadata": {},
   "source": [
    "### **Traitement de *order_items***\n",
    "\n",
    "Je regroupe par numéro de commande (order_id), les autres colonnes sont agglomérées comme suit : \n",
    "- *order_item_id* : *max()*, ce qui donnera le nombre d'articles de la commande\n",
    "- *product_id* : *first()*, je ne conserve que le premier, pas idéal mais ça ne concerne qu'un nombre très limité de commandes\n",
    "- *seller_id* : *first()*, même logique que pour *product_id*\n",
    "- *shipping_limit_date* : *first()*, c'est la même pour toute la commande\n",
    "- *price* : *sum()*, prix total des articles\n",
    "- *freight_value* : *mean()*, frais de port moyens"
   ]
  },
  {
   "cell_type": "code",
   "execution_count": 6,
   "metadata": {},
   "outputs": [
    {
     "name": "stdout",
     "output_type": "stream",
     "text": [
      "Lignes avant traitement : 112650\n"
     ]
    },
    {
     "name": "stdout",
     "output_type": "stream",
     "text": [
      "Lignes après traitement : 98666\n",
      "Valeurs manquantes : 0\n"
     ]
    }
   ],
   "source": [
    "print('Lignes avant traitement :', len(order_items))\n",
    "order_items = order_items.groupby('order_id').agg({'order_item_id': 'max', 'product_id': 'first', 'seller_id': 'first', 'shipping_limit_date': 'first', 'price': 'sum', 'freight_value': 'mean'})\n",
    "order_items = order_items.reset_index() # pour remettre order_id en tant que colonne\n",
    "print('Lignes après traitement :', len(order_items))\n",
    "print('Valeurs manquantes :', order_items.isnull().sum().sum())"
   ]
  },
  {
   "cell_type": "markdown",
   "metadata": {},
   "source": [
    "### **Traitement de *order_payments***\n",
    "\n",
    "Je supprime *payment_sequential*, que je ne vais pas utiliser.<br>\n",
    "Je regroupe par *order_id*, les autres colonnes sont agglomérées comme suit : \n",
    "- *payment_type* : *first()*\n",
    "- *payment_installments* (paiements en plusieurs fois) : *max()*\n",
    "- *payment_value* : *sum()*"
   ]
  },
  {
   "cell_type": "code",
   "execution_count": 7,
   "metadata": {},
   "outputs": [
    {
     "name": "stdout",
     "output_type": "stream",
     "text": [
      "Lignes avant traitement : 103886\n",
      "Lignes après traitement : 99440\n",
      "Valeurs manquantes : 0\n"
     ]
    }
   ],
   "source": [
    "print('Lignes avant traitement :', len(order_payments))\n",
    "order_payments = order_payments.drop(['payment_sequential'], axis=1)\n",
    "order_payments = order_payments.groupby('order_id').agg({'payment_type': 'first', 'payment_installments': 'max', 'payment_value': 'sum'})\n",
    "order_payments = order_payments.reset_index() # pour remettre order_id en tant que colonne\n",
    "print('Lignes après traitement :', len(order_payments))\n",
    "print('Valeurs manquantes :', order_payments.isnull().sum().sum())"
   ]
  },
  {
   "cell_type": "markdown",
   "metadata": {},
   "source": [
    "### **Traitement de *order_reviews***\n",
    "\n",
    "Je supprime *review_id*, *review_comment_title*, *review_comment_message*, *review_creation_date* et *review_answer_timestamp*, que je n'utiliserai pas.<br>\n",
    "Je regroupe par *order_id* avec *mean()* sur *review_score* (il arrive parfois qu'il y ait plusieurs avis pour une même commande)"
   ]
  },
  {
   "cell_type": "code",
   "execution_count": 8,
   "metadata": {},
   "outputs": [
    {
     "name": "stdout",
     "output_type": "stream",
     "text": [
      "Lignes avant traitement : 99224\n",
      "Lignes après traitement : 98673\n",
      "Valeurs manquantes : 0\n"
     ]
    }
   ],
   "source": [
    "print('Lignes avant traitement :', len(order_reviews))\n",
    "order_reviews = order_reviews.drop(['review_id', 'review_comment_title', 'review_comment_message', 'review_creation_date', 'review_answer_timestamp'], axis=1)\n",
    "order_reviews = order_reviews.groupby('order_id').mean()\n",
    "order_reviews = order_reviews.reset_index() # pour remettre order_id en tant que colonne\n",
    "print('Lignes après traitement :', len(order_reviews))\n",
    "print('Valeurs manquantes :', order_reviews.isnull().sum().sum())"
   ]
  },
  {
   "cell_type": "markdown",
   "metadata": {},
   "source": [
    "### **Traitement de *orders***\n",
    "\n",
    "Je convertis les colonnes contenant des dates que je vais utiliser au format date.<br>\n",
    "Je décide de ne conserver que les commandes qui sont indiquées comme livrées (la grande majorité)<br>\n",
    "Je crée une nouvelle colonne *delivery_time* en faisant la différence entre *order_purchase_timestamp* et *order_delivered_customer_date*.<br>\n",
    "Au final, je ne conserve que *order_id*, *customer_id*, *order_purchase_timestamp* et *delivery_time*\n",
    "\n"
   ]
  },
  {
   "cell_type": "code",
   "execution_count": 9,
   "metadata": {},
   "outputs": [
    {
     "name": "stdout",
     "output_type": "stream",
     "text": [
      "Lignes avant traitement : 99441\n",
      "Lignes après traitement : 96470\n",
      "Valeurs manquantes : 0\n"
     ]
    }
   ],
   "source": [
    "print('Lignes avant traitement :', len(orders))\n",
    "# je passe par .apply() pour appliquer pd.to_datetime au deux colonnes\n",
    "orders[['order_purchase_timestamp', 'order_delivered_customer_date']] = orders[['order_purchase_timestamp', 'order_delivered_customer_date']].apply(pd.to_datetime, format='%Y-%m-%d %H:%M:%S', errors='coerce')\n",
    "orders = orders.loc[orders['order_status'] == 'delivered']\n",
    "orders['delivery_time'] = (orders['order_delivered_customer_date'] - orders['order_purchase_timestamp']).dt.days\n",
    "orders = orders[['order_id', 'customer_id', 'order_purchase_timestamp', 'delivery_time']]\n",
    "# Je supprime les quelques lignes où delivery_time est manquant\n",
    "orders = orders.loc[orders['delivery_time'].isnull() == False]\n",
    "print('Lignes après traitement :', len(orders))\n",
    "print('Valeurs manquantes :', orders.isnull().sum().sum())\n"
   ]
  },
  {
   "cell_type": "markdown",
   "metadata": {},
   "source": [
    "### **Traitement de *products***\n",
    "\n",
    "Je fusionne avec *product_category_name_translation* pour avoir les catégories en Anglais.<br>\n",
    "Je remplace les valeurs manquantes dans *product_category_name_english* par \"other\".<br>\n",
    "Au final, je ne conserve que les colonnes *product_id* et *product_category_name_english*."
   ]
  },
  {
   "cell_type": "code",
   "execution_count": 10,
   "metadata": {},
   "outputs": [
    {
     "name": "stdout",
     "output_type": "stream",
     "text": [
      "Valeurs manquantes : 0\n"
     ]
    }
   ],
   "source": [
    "products = products.merge(product_category_name_translation, on='product_category_name', how='left')\n",
    "products['product_category_name_english'].loc[products['product_category_name_english'].isnull() == True] = \"other\"\n",
    "products = products[['product_id', 'product_category_name_english']]\n",
    "print('Valeurs manquantes :', products.isnull().sum().sum())"
   ]
  },
  {
   "cell_type": "markdown",
   "metadata": {},
   "source": [
    "## **Fusion des datasets**\n",
    "\n",
    "Je pars de *order_items* et je vais successivement fusionner avec les autres datasets."
   ]
  },
  {
   "cell_type": "code",
   "execution_count": 11,
   "metadata": {},
   "outputs": [],
   "source": [
    "order_items = order_items.merge(orders, on='order_id', how='left')\n",
    "order_items = order_items.merge(products, on='product_id', how='left')\n",
    "order_items = order_items.merge(order_payments, on='order_id', how='left')\n",
    "order_items = order_items.merge(sellers, on='seller_id', how='left')\n",
    "order_items = order_items.merge(order_reviews, on='order_id', how='left')\n",
    "order_items = order_items.merge(customers, on='customer_id', how='left')"
   ]
  },
  {
   "cell_type": "markdown",
   "metadata": {},
   "source": [
    "- Je supprime les lignes où *customer_unique_id* est manquant car c'est une variable essentielle (c'est elle qu'on va regrouper en cluster plus tard)."
   ]
  },
  {
   "cell_type": "code",
   "execution_count": 12,
   "metadata": {},
   "outputs": [],
   "source": [
    "order_items = order_items.loc[order_items['customer_unique_id'].isnull() == False]"
   ]
  },
  {
   "cell_type": "markdown",
   "metadata": {},
   "source": [
    "### **Création d'une nouvelle variable *customer_seller_distance***\n",
    "\n",
    "À partir de customer_lat/customer_lng et seller_lat/seller_lng, je vais calculer la distance client/vendeur pour chaque commande."
   ]
  },
  {
   "cell_type": "markdown",
   "metadata": {},
   "source": [
    "- Création d'une fonction qui va permettre de calculer la distance entre deux points à partir de leur coordonnées GPS : "
   ]
  },
  {
   "cell_type": "code",
   "execution_count": 13,
   "metadata": {},
   "outputs": [],
   "source": [
    "def haversine_distance(coord1, coord2):\n",
    "\n",
    "    \"\"\"\n",
    "    Cette fonction permet de calculer la distance entre un point A et un point B à partir de leur coordonnées GPS.\n",
    "\n",
    "    :coord1: coordonnées du point A, sous forme de tuple (latitude, longitude).\n",
    "    :coord2: coordonnées du point A, sous forme de tuple (latitude, longitude).\n",
    "    :return: Retourne la distance de haversine entre A et B, en kilomètres.\n",
    "\n",
    "    \"\"\"\n",
    "\n",
    "    lat1, lon1 = coord1\n",
    "    lat2, lon2 = coord2\n",
    "    R = 6371  # Rayon moyen de la Terre en kilomètres\n",
    "\n",
    "    dlat = math.radians(lat2 - lat1)\n",
    "    dlon = math.radians(lon2 - lon1)\n",
    "\n",
    "    a = math.sin(dlat / 2) * math.sin(dlat / 2) + math.cos(math.radians(lat1)) * math.cos(math.radians(lat2)) * math.sin(dlon / 2) * math.sin(dlon / 2)\n",
    "    c = 2 * math.atan2(math.sqrt(a), math.sqrt(1 - a))\n",
    "\n",
    "    distance = R * c\n",
    "    return distance"
   ]
  },
  {
   "cell_type": "markdown",
   "metadata": {},
   "source": [
    "- On applique la fonction haversine_distance() pour chaque ligne et on met le résultat dans la colonne *customer_seller_distance*"
   ]
  },
  {
   "cell_type": "code",
   "execution_count": 14,
   "metadata": {},
   "outputs": [],
   "source": [
    "order_items['customer_seller_distance'] = order_items.apply(lambda row: haversine_distance((row['customer_lat'], row['customer_lng']), (row['seller_lat'], row['seller_lng'])), axis=1)"
   ]
  },
  {
   "cell_type": "markdown",
   "metadata": {},
   "source": [
    "- On va supprimer les colonnes dont on a plus besoin à ce stade : *product_id*, *seller_id*, *shipping_limit_date*, *customer_id*, *seller_lat*, *seller_lng* :"
   ]
  },
  {
   "cell_type": "code",
   "execution_count": 15,
   "metadata": {},
   "outputs": [],
   "source": [
    "colonnes_a_supprimer = [\n",
    "                        'order_item_id',\n",
    "                        'product_id',\n",
    "                        'seller_id',\n",
    "                        'price',\n",
    "                        'shipping_limit_date',\n",
    "                        'customer_id',\n",
    "                        'seller_lat',\n",
    "                        'seller_lng'\n",
    "                       ]\n",
    "\n",
    "# On en profite pour créer un dataset global nommé \"data\"\n",
    "data = order_items.drop(colonnes_a_supprimer, axis=1)"
   ]
  },
  {
   "cell_type": "markdown",
   "metadata": {},
   "source": [
    "### **Regroupement des lignes pour n'avoir plus qu'une ligne par client**"
   ]
  },
  {
   "cell_type": "markdown",
   "metadata": {},
   "source": [
    "- Je duplique la colonne *order_purchase_timestamp* : lors du groupby, une sera utilisé pour définir la date de première commande, l'autre pour la date de dernière commande."
   ]
  },
  {
   "cell_type": "code",
   "execution_count": 16,
   "metadata": {},
   "outputs": [],
   "source": [
    "data['order_purchase_timestamp_last'] = data.loc[:, 'order_purchase_timestamp']\n",
    "# Je renomme la colonne order_purchase_timestamp d'origine en order_purchase_timestamp_first\n",
    "data.rename(columns={\"order_purchase_timestamp\": \"order_purchase_timestamp_first\"}, inplace=True)"
   ]
  },
  {
   "cell_type": "markdown",
   "metadata": {},
   "source": [
    "- Nous allons maintenant regrouper les lignes de manière à n'avoir plus qu'une ligne par *customer_unique_id*, c'est-à-dire par client.<br>\n",
    "La stratégie de regroupement dépendra du type de colonne."
   ]
  },
  {
   "cell_type": "code",
   "execution_count": 17,
   "metadata": {},
   "outputs": [],
   "source": [
    "# Je définis la fonction first_mode() qui va me servir pour certaines variables catégorielles\n",
    "def first_mode(series):\n",
    "    \"\"\"\n",
    "    Cette fonction permet de ne retenir que la valeur la plus fréquente lors d'un groupby.\n",
    "    Si plusieurs valeurs à égalité, alors ne retourne que la première valeur.\n",
    "    \"\"\"\n",
    "    modes = series.mode()\n",
    "    if not modes.empty:\n",
    "        return modes.iloc[0]\n",
    "    else:\n",
    "        return None\n",
    "\n",
    "# Je définis les stratégies de regroupement pour chaque colonne\n",
    "strategie = {\n",
    "             'order_id': 'count', # Combien le client a passé de commande au total\n",
    "             'freight_value': 'sum', # Combien le client a payé de frais de port au total\n",
    "             'order_purchase_timestamp_first': 'min', # Date de la première commande du client\n",
    "             'delivery_time': 'mean', # En moyenne, le client se fait livrer en combien de temps\n",
    "             'product_category_name_english': first_mode, # Valeur la plus fréquemment recontrée, si plusieurs à égalité, je ne prends que la première retournée\n",
    "             'payment_type': first_mode, # Valeur la plus fréquemment recontrée, si plusieurs à égalité, je ne prends que la première retournée\n",
    "             'payment_installments': 'mean', # En moyenne, le client paie en combien de fois\n",
    "             'payment_value': 'sum', # Combien le client a dépensé au total\n",
    "             'review_score': 'mean', # En moyenne, quelle note met le client\n",
    "             'customer_lat': 'mean', # Je prends la moyenne, car le client peut avoir déménagé entre deux commandes\n",
    "             'customer_lng': 'mean', # Je prends la moyenne, car le client peut avoir déménagé entre deux commandes\n",
    "             'customer_seller_distance': 'mean', # En moyenne, le client est à quelle distance des/du vendeur(s)\n",
    "             'order_purchase_timestamp_last': 'max' # Date de la dernière commande du client\n",
    "            }\n",
    "\n",
    "# Regroupement des lignes pour n'avoir plus qu'une ligne par client\n",
    "data = data.groupby('customer_unique_id').agg(strategie)\n",
    "\n",
    "data = data.reset_index() # pour remettre customer_unique_id en tant que colonne"
   ]
  },
  {
   "cell_type": "markdown",
   "metadata": {},
   "source": [
    "### **Traitements divers suite au regroupement**"
   ]
  },
  {
   "cell_type": "code",
   "execution_count": 18,
   "metadata": {},
   "outputs": [
    {
     "name": "stdout",
     "output_type": "stream",
     "text": [
      "Avant traitement : 93350 individus, 14 variables.\n",
      "Il y a 0 client(s) en double.\n",
      "Il y a 603 clients qui n'ont pas laissé d'avis, sur un total de 93349\n",
      "Après traitement : 92746 individus, 14 variables.\n"
     ]
    }
   ],
   "source": [
    "print(f\"Avant traitement : {data.shape[0]} individus, {data.shape[1]} variables.\")\n",
    "\n",
    "print(\"Il y a\", data['customer_unique_id'].duplicated().sum(), \"client(s) en double.\")\n",
    "\n",
    "# payment_type et payment_installments sont manquants sur une ligne : je supprime la ligne concernée\n",
    "data = data.loc[data['payment_type'].isnull() == False]\n",
    "\n",
    "print(\"Il y a\", data['review_score'].isnull().sum(), \"clients qui n'ont pas laissé d'avis, sur un total de\", len(data))\n",
    "# Un nombre très réduit de client n'a jamais laissé d'avis suite à une commande.\n",
    "# Étant donné qu'il est compliqué d'imputer ces valeurs manquantes sans perdre la notion de hiérarchie\n",
    "# dans les notes moyenne et que très peu d'individus sont concernés,\n",
    "# je décide de supprimer les clients qui n'ont jamais laissé un avis\n",
    "data = data.loc[data['review_score'].isnull() == False]\n",
    "\n",
    "################################\n",
    "########## RENOMMAGES ##########\n",
    "################################\n",
    "# Renommage de certaines variables avec des noms plus explicites\n",
    "a_renommer = {\n",
    "              \"order_id\": \"orders_number\", # order_id représente maintenant le nombre de commandes pour chaque client\n",
    "              \"product_category_name_english\": \"preferred_category\",\n",
    "              \"payment_type\": \"preferred_payment_type\",\n",
    "              \"payment_value\": \"total_spent\",\n",
    "              \"order_purchase_timestamp_first\": \"first_purchase_date\",\n",
    "              \"order_purchase_timestamp_last\": \"last_purchase_date\",\n",
    "              \"delivery_time\": \"avg_delivery_time\",\n",
    "              \"payment_installments\": \"avg_payment_installments\",\n",
    "              \"review_score\": \"avg_review_score\",\n",
    "              \"customer_seller_distance\": \"avg_customer_seller_distance_km\"\n",
    "             }\n",
    "data.rename(columns=a_renommer, inplace=True)\n",
    "\n",
    "print(f\"Après traitement : {data.shape[0]} individus, {data.shape[1]} variables.\")"
   ]
  },
  {
   "cell_type": "markdown",
   "metadata": {},
   "source": [
    "### **Création de nouvelles variables**"
   ]
  },
  {
   "cell_type": "code",
   "execution_count": 19,
   "metadata": {},
   "outputs": [
    {
     "name": "stdout",
     "output_type": "stream",
     "text": [
      "Avant traitement : 92746 individus, 14 variables.\n",
      "Après traitement : 92746 individus, 17 variables.\n"
     ]
    }
   ],
   "source": [
    "print(f\"Avant traitement : {data.shape[0]} individus, {data.shape[1]} variables.\")\n",
    "\n",
    "# Je vais créer une nouvelle variable correspondant à la proportion (en %) de frais de port dans le total dépensé\n",
    "# cette variable sera plus pertinante que freight_value (total dépensé en frais de port par le client), que je vais supprimer\n",
    "data['shipping_fees_proportion'] = data['freight_value'] / data['total_spent'] * 100\n",
    "data = data.drop(['freight_value'], axis=1)\n",
    "\n",
    "# Je vais créer une variable avg_spent\n",
    "# qui correspondra au montant moyen par commande\n",
    "data['avg_spent'] = data['total_spent'] / data['orders_number']\n",
    "\n",
    "# Je vais créer une variable recency\n",
    "# qui correspond à la récence de la dernière commande (en jours)\n",
    "# Pour la calculer, je vais utiliser la date de la dernière commande du client\n",
    "# et la date de la dernière commande de tout le dataset (pour estimer la date de mise à jour du dataset)\n",
    "data['recency'] = (data['last_purchase_date'].max() - data['last_purchase_date']).dt.days\n",
    "\n",
    "# Je vais créer une variable frequency (exprimé en commande / x jours)\n",
    "# Pour la calculer, je vais faire période entre première commande et date de la dernière commande de tout le dataset\n",
    "# divisé par le nombre de commande.\n",
    "# Une autre manière aurait pu être d'utiliser la date de la dernière commande du client\n",
    "# pour marquer la fin de période\n",
    "data['frequency'] = (data['last_purchase_date'].max() - data['first_purchase_date']).dt.days / data['orders_number']\n",
    "\n",
    "print(f\"Après traitement : {data.shape[0]} individus, {data.shape[1]} variables.\")"
   ]
  },
  {
   "cell_type": "markdown",
   "metadata": {},
   "source": [
    "### **Ordre des colonnes**"
   ]
  },
  {
   "cell_type": "code",
   "execution_count": 20,
   "metadata": {},
   "outputs": [],
   "source": [
    "# Je réarrange l'ordre des colonnes\n",
    "ordre = [\n",
    "         'customer_unique_id',\n",
    "         'customer_lat',\n",
    "         'customer_lng',\n",
    "         'orders_number',\n",
    "         'first_purchase_date',\n",
    "         'last_purchase_date',\n",
    "         'recency',\n",
    "         'frequency',\n",
    "         'avg_spent',\n",
    "         'total_spent',\n",
    "         'preferred_payment_type',\n",
    "         'avg_payment_installments',\n",
    "         'shipping_fees_proportion',\n",
    "         'avg_customer_seller_distance_km',\n",
    "         'avg_delivery_time',\n",
    "         'preferred_category',\n",
    "         'avg_review_score'         \n",
    "        ]\n",
    "data = data[ordre]\n"
   ]
  },
  {
   "cell_type": "markdown",
   "metadata": {},
   "source": [
    "### **Réduction du nombre de catégories**\n",
    "\n",
    "Essayons de réduire le nombre de catégories dans *preferred_payment_type* et *preferred_category*."
   ]
  },
  {
   "cell_type": "markdown",
   "metadata": {},
   "source": [
    "- *preferred_payment_type* : "
   ]
  },
  {
   "cell_type": "code",
   "execution_count": 21,
   "metadata": {},
   "outputs": [
    {
     "data": {
      "image/png": "[encoded data removed]",
      "text/plain": [
       "<Figure size 1000x1000 with 1 Axes>"
      ]
     },
     "metadata": {},
     "output_type": "display_data"
    }
   ],
   "source": [
    "plt.figure(figsize=(10,10))\n",
    "data.groupby('preferred_payment_type').count()['customer_unique_id'].sort_values(ascending=False).plot.bar(color=\"#8181FF\", edgecolor='black', linewidth=0.5, width=0.8);"
   ]
  },
  {
   "cell_type": "markdown",
   "metadata": {},
   "source": [
    "On voit ici que le paiment par carte bancaire est très majoritaire.<br>\n",
    "Je vais donc réduire à deux catégories : *carte bancaire* et *autre*."
   ]
  },
  {
   "cell_type": "code",
   "execution_count": 22,
   "metadata": {},
   "outputs": [
    {
     "data": {
      "image/png": "[encoded data removed]",
      "text/plain": [
       "<Figure size 1000x1000 with 1 Axes>"
      ]
     },
     "metadata": {},
     "output_type": "display_data"
    }
   ],
   "source": [
    "plt.figure(figsize=(10,10))\n",
    "data['preferred_payment_type'].loc[(data['preferred_payment_type'] == 'boleto') | (data['preferred_payment_type'] == 'voucher') | (data['preferred_payment_type'] == 'debit_card')] = \"other\"\n",
    "data.groupby('preferred_payment_type').count()['customer_unique_id'].sort_values(ascending=False).plot.bar(color=\"#8181FF\", edgecolor='black', linewidth=0.5, width=0.8);"
   ]
  },
  {
   "cell_type": "markdown",
   "metadata": {},
   "source": [
    "- *preferred_category* : "
   ]
  },
  {
   "cell_type": "code",
   "execution_count": 23,
   "metadata": {},
   "outputs": [
    {
     "name": "stdout",
     "output_type": "stream",
     "text": [
      "Il y a 72 catégories différentes.\n"
     ]
    },
    {
     "data": {
      "image/png": "[encoded data removed]",
      "text/plain": [
       "<Figure size 2000x1000 with 1 Axes>"
      ]
     },
     "metadata": {},
     "output_type": "display_data"
    }
   ],
   "source": [
    "plt.figure(figsize=(20,10))\n",
    "data.groupby('preferred_category').count()['customer_unique_id'].sort_values(ascending=False).plot.bar(color=\"#8181FF\", edgecolor='black', linewidth=0.5, width=0.8);\n",
    "print(\"Il y a\", len(data['preferred_category'].unique()), \"catégories différentes.\")"
   ]
  },
  {
   "cell_type": "markdown",
   "metadata": {},
   "source": [
    "**Beaucoup trop de catégories, je vais réduire le nombre de catégories comme suit :**\n",
    "\n",
    "- ***electronics_computers*** :<br>\n",
    "'telephony',\n",
    "'electronics',\n",
    "'tablets_printing_image',\n",
    "'computers_accessories',\n",
    "'fixed_telephony',\n",
    "'computers'\n",
    "\n",
    "- ***fashion_clothing*** :<br>\n",
    "'fashion_bags_accessories',\n",
    "'fashion_underwear_beach',\n",
    "'fashion_shoes',\n",
    "'fashion_male_clothing',\n",
    "'fashion_childrens_clothes',\n",
    "'fashion_sport',\n",
    "'luggage_accessories',\n",
    "'watches_gifts',\n",
    "'fashio_female_clothing'\n",
    "\n",
    "- ***home_kitchen_garden*** :<br>\n",
    "'home_comfort_2',\n",
    "'small_appliances_home_oven_and_coffee',\n",
    "'home_confort',\n",
    "'home_appliances',\n",
    "'home_construction',\n",
    "'home_appliances_2',\n",
    "'furniture_living_room',\n",
    "'office_furniture',\n",
    "'furniture_decor',\n",
    "'kitchen_dining_laundry_garden_furniture',\n",
    "'furniture_bedroom',\n",
    "'furniture_mattress_and_upholstery',\n",
    "'small_appliances',\n",
    "'bed_bath_table',\n",
    "'stationery',\n",
    "'garden_tools',\n",
    "'housewares',\n",
    "'construction_tools_construction',\n",
    "'pet_shop',\n",
    "'flowers',\n",
    "'construction_tools_safety',\n",
    "'christmas_supplies',\n",
    "'construction_tools_lights',\n",
    "'costruction_tools_garden',\n",
    "'costruction_tools_tools',\n",
    "'air_conditioning',\n",
    "'la_cuisine'\n",
    "\n",
    "- ***health_beauty*** :<br>\n",
    "'health_beauty',\n",
    "'perfumery'\n",
    "\n",
    "- ***sports_leisure*** :<br>\n",
    "'cool_stuff',\n",
    "'sports_leisure',\n",
    "'musical_instruments',\n",
    "'party_supplies',\n",
    "'arts_and_craftmanship'\n",
    "\n",
    "- ***books_entertainment*** :<br>\n",
    "'cds_dvds_musicals',\n",
    "'cine_photo',\n",
    "'books_general_interest',\n",
    "'books_technical',\n",
    "'books_imported',\n",
    "'dvds_blu_ray',\n",
    "'consoles_games',\n",
    "'audio',\n",
    "'art',\n",
    "'books_imported',\n",
    "'music'\n",
    "\n",
    "- ***automotive_motorcycle*** :<br>\n",
    "'auto',\n",
    "'signaling_and_security'\n",
    "\n",
    "- ***babies_kids*** :<br>\n",
    "'baby',\n",
    "'toys',\n",
    "'diapers_and_hygiene'\n",
    "\n",
    "- ***food_drinks*** :<br>\n",
    "'food_drink',\n",
    "'food',\n",
    "'drinks'\n",
    "\n",
    "- ***other*** :<br>\n",
    "'other',\n",
    "'industry_commerce_and_business',\n",
    "'market_place',\n",
    "'agro_industry_and_commerce',\n",
    "'security_and_services"
   ]
  },
  {
   "cell_type": "code",
   "execution_count": 24,
   "metadata": {},
   "outputs": [
    {
     "name": "stdout",
     "output_type": "stream",
     "text": [
      "Nombre de catégories avant traitement : 72\n",
      "Nombre de catégories après traitement : 10\n"
     ]
    }
   ],
   "source": [
    "print(\"Nombre de catégories avant traitement :\", len(data['preferred_category'].unique()))\n",
    "\n",
    "electronics_computers = [\n",
    "                        'telephony',\n",
    "                        'electronics',\n",
    "                        'tablets_printing_image',\n",
    "                        'computers_accessories',\n",
    "                        'fixed_telephony',\n",
    "                        'computers'\n",
    "                        ]\n",
    "\n",
    "data['preferred_category'].loc[data['preferred_category'].isin(electronics_computers)] = 'electronics_computers'\n",
    "\n",
    "fashion_clothing = [\n",
    "                    'fashion_bags_accessories',\n",
    "                    'fashion_underwear_beach',\n",
    "                    'fashion_shoes',\n",
    "                    'fashion_male_clothing',\n",
    "                    'fashion_childrens_clothes',\n",
    "                    'fashion_sport',\n",
    "                    'luggage_accessories',\n",
    "                    'watches_gifts',\n",
    "                    'fashio_female_clothing'\n",
    "                   ]\n",
    "\n",
    "data['preferred_category'].loc[data['preferred_category'].isin(fashion_clothing)] = 'fashion_clothing'\n",
    "\n",
    "home_kitchen_garden = [\n",
    "                        'home_comfort_2',\n",
    "                        'small_appliances_home_oven_and_coffee',\n",
    "                        'home_confort',\n",
    "                        'home_appliances',\n",
    "                        'home_construction',\n",
    "                        'home_appliances_2',\n",
    "                        'furniture_living_room',\n",
    "                        'office_furniture',\n",
    "                        'furniture_decor',\n",
    "                        'kitchen_dining_laundry_garden_furniture',\n",
    "                        'furniture_bedroom',\n",
    "                        'furniture_mattress_and_upholstery',\n",
    "                        'small_appliances',\n",
    "                        'bed_bath_table',\n",
    "                        'stationery',\n",
    "                        'garden_tools',\n",
    "                        'housewares',\n",
    "                        'construction_tools_construction',\n",
    "                        'pet_shop',\n",
    "                        'flowers',\n",
    "                        'construction_tools_safety',\n",
    "                        'christmas_supplies',\n",
    "                        'construction_tools_lights',\n",
    "                        'costruction_tools_garden',\n",
    "                        'costruction_tools_tools',\n",
    "                        'air_conditioning',\n",
    "                        'la_cuisine'\n",
    "                      ]\n",
    "\n",
    "data['preferred_category'].loc[data['preferred_category'].isin(home_kitchen_garden)] = 'home_kitchen_garden'\n",
    "\n",
    "health_beauty = [\n",
    "                 'health_beauty',\n",
    "                 'perfumery'\n",
    "                ]\n",
    "\n",
    "data['preferred_category'].loc[data['preferred_category'].isin(health_beauty)] = 'health_beauty'\n",
    "\n",
    "sports_leisure = [\n",
    "                'cool_stuff',\n",
    "                'sports_leisure',\n",
    "                'musical_instruments',\n",
    "                'party_supplies',\n",
    "                'arts_and_craftmanship'\n",
    "                 ]\n",
    "\n",
    "data['preferred_category'].loc[data['preferred_category'].isin(sports_leisure)] = 'sports_leisure'\n",
    "\n",
    "books_entertainment = [\n",
    "                      'cds_dvds_musicals',\n",
    "                      'cine_photo',\n",
    "                      'books_general_interest',\n",
    "                      'books_technical',\n",
    "                      'books_imported',\n",
    "                      'dvds_blu_ray',\n",
    "                      'consoles_games',\n",
    "                      'audio',\n",
    "                      'art',\n",
    "                      'books_imported',\n",
    "                      'music'\n",
    "                      ]\n",
    "\n",
    "data['preferred_category'].loc[data['preferred_category'].isin(books_entertainment)] = 'books_entertainment'\n",
    "\n",
    "automotive_motorcycle = [\n",
    "                        'auto',\n",
    "                        'signaling_and_security'\n",
    "                        ]\n",
    "\n",
    "data['preferred_category'].loc[data['preferred_category'].isin(automotive_motorcycle)] = 'automotive_motorcycle'\n",
    "\n",
    "babies_kids = [\n",
    "              'baby',\n",
    "              'toys',\n",
    "              'diapers_and_hygiene'\n",
    "              ]\n",
    "\n",
    "data['preferred_category'].loc[data['preferred_category'].isin(babies_kids)] = 'babies_kids'\n",
    "\n",
    "food_drinks = [\n",
    "              'food_drink',\n",
    "              'food',\n",
    "              'drinks'\n",
    "              ]\n",
    "\n",
    "data['preferred_category'].loc[data['preferred_category'].isin(food_drinks)] = 'food_drinks'\n",
    "\n",
    "other = [\n",
    "        'other',\n",
    "        'industry_commerce_and_business',\n",
    "        'market_place',\n",
    "        'agro_industry_and_commerce',\n",
    "        'security_and_services'\n",
    "        ]\n",
    "\n",
    "data['preferred_category'].loc[data['preferred_category'].isin(other)] = 'other'\n",
    "\n",
    "print(\"Nombre de catégories après traitement :\", len(data['preferred_category'].unique()))\n"
   ]
  },
  {
   "cell_type": "code",
   "execution_count": 25,
   "metadata": {},
   "outputs": [
    {
     "data": {
      "image/png": "[encoded data removed]",
      "text/plain": [
       "<Figure size 1000x1000 with 1 Axes>"
      ]
     },
     "metadata": {},
     "output_type": "display_data"
    }
   ],
   "source": [
    "plt.figure(figsize=(10,10))\n",
    "data.groupby('preferred_category').count()['customer_unique_id'].sort_values(ascending=False).plot.bar(color=\"#8181FF\", edgecolor='black', linewidth=0.5, width=0.8);"
   ]
  },
  {
   "cell_type": "code",
   "execution_count": 26,
   "metadata": {},
   "outputs": [
    {
     "data": {
      "text/html": [
       "<div>\n",
       "<style scoped>\n",
       "    .dataframe tbody tr th:only-of-type {\n",
       "        vertical-align: middle;\n",
       "    }\n",
       "\n",
       "    .dataframe tbody tr th {\n",
       "        vertical-align: top;\n",
       "    }\n",
       "\n",
       "    .dataframe thead th {\n",
       "        text-align: right;\n",
       "    }\n",
       "</style>\n",
       "<table border=\"1\" class=\"dataframe\">\n",
       "  <thead>\n",
       "    <tr style=\"text-align: right;\">\n",
       "      <th></th>\n",
       "      <th>customer_unique_id</th>\n",
       "      <th>customer_lat</th>\n",
       "      <th>customer_lng</th>\n",
       "      <th>orders_number</th>\n",
       "      <th>first_purchase_date</th>\n",
       "      <th>last_purchase_date</th>\n",
       "      <th>recency</th>\n",
       "      <th>frequency</th>\n",
       "      <th>avg_spent</th>\n",
       "      <th>total_spent</th>\n",
       "      <th>preferred_payment_type</th>\n",
       "      <th>avg_payment_installments</th>\n",
       "      <th>shipping_fees_proportion</th>\n",
       "      <th>avg_customer_seller_distance_km</th>\n",
       "      <th>avg_delivery_time</th>\n",
       "      <th>preferred_category</th>\n",
       "      <th>avg_review_score</th>\n",
       "    </tr>\n",
       "  </thead>\n",
       "  <tbody>\n",
       "    <tr>\n",
       "      <th>0</th>\n",
       "      <td>0000366f3b9a7992bf8c76cfdf3221e2</td>\n",
       "      <td>-23.340235</td>\n",
       "      <td>-46.830140</td>\n",
       "      <td>1</td>\n",
       "      <td>2018-05-10 10:56:27</td>\n",
       "      <td>2018-05-10 10:56:27</td>\n",
       "      <td>111</td>\n",
       "      <td>111.0</td>\n",
       "      <td>141.90</td>\n",
       "      <td>141.90</td>\n",
       "      <td>credit_card</td>\n",
       "      <td>8.0</td>\n",
       "      <td>8.456660</td>\n",
       "      <td>110.568636</td>\n",
       "      <td>6.0</td>\n",
       "      <td>home_kitchen_garden</td>\n",
       "      <td>5.0</td>\n",
       "    </tr>\n",
       "    <tr>\n",
       "      <th>1</th>\n",
       "      <td>0000b849f77a49e4a4ce2b2a4ca5be3f</td>\n",
       "      <td>-23.559115</td>\n",
       "      <td>-46.787626</td>\n",
       "      <td>1</td>\n",
       "      <td>2018-05-07 11:11:27</td>\n",
       "      <td>2018-05-07 11:11:27</td>\n",
       "      <td>114</td>\n",
       "      <td>114.0</td>\n",
       "      <td>27.19</td>\n",
       "      <td>27.19</td>\n",
       "      <td>credit_card</td>\n",
       "      <td>1.0</td>\n",
       "      <td>30.489150</td>\n",
       "      <td>22.168333</td>\n",
       "      <td>3.0</td>\n",
       "      <td>health_beauty</td>\n",
       "      <td>4.0</td>\n",
       "    </tr>\n",
       "    <tr>\n",
       "      <th>2</th>\n",
       "      <td>0000f46a3911fa3c0805444483337064</td>\n",
       "      <td>-27.542880</td>\n",
       "      <td>-48.633426</td>\n",
       "      <td>1</td>\n",
       "      <td>2017-03-10 21:05:03</td>\n",
       "      <td>2017-03-10 21:05:03</td>\n",
       "      <td>536</td>\n",
       "      <td>536.0</td>\n",
       "      <td>86.22</td>\n",
       "      <td>86.22</td>\n",
       "      <td>credit_card</td>\n",
       "      <td>8.0</td>\n",
       "      <td>19.972164</td>\n",
       "      <td>516.938836</td>\n",
       "      <td>25.0</td>\n",
       "      <td>home_kitchen_garden</td>\n",
       "      <td>3.0</td>\n",
       "    </tr>\n",
       "    <tr>\n",
       "      <th>3</th>\n",
       "      <td>0000f6ccb0745a6a4b88665a16c9f078</td>\n",
       "      <td>-1.312214</td>\n",
       "      <td>-48.483159</td>\n",
       "      <td>1</td>\n",
       "      <td>2017-10-12 20:29:41</td>\n",
       "      <td>2017-10-12 20:29:41</td>\n",
       "      <td>320</td>\n",
       "      <td>320.0</td>\n",
       "      <td>43.62</td>\n",
       "      <td>43.62</td>\n",
       "      <td>credit_card</td>\n",
       "      <td>4.0</td>\n",
       "      <td>40.417240</td>\n",
       "      <td>2481.287188</td>\n",
       "      <td>20.0</td>\n",
       "      <td>electronics_computers</td>\n",
       "      <td>4.0</td>\n",
       "    </tr>\n",
       "    <tr>\n",
       "      <th>4</th>\n",
       "      <td>0004aac84e0df4da2b147fca70cf8255</td>\n",
       "      <td>-23.505548</td>\n",
       "      <td>-47.469705</td>\n",
       "      <td>1</td>\n",
       "      <td>2017-11-14 19:45:42</td>\n",
       "      <td>2017-11-14 19:45:42</td>\n",
       "      <td>287</td>\n",
       "      <td>287.0</td>\n",
       "      <td>196.89</td>\n",
       "      <td>196.89</td>\n",
       "      <td>credit_card</td>\n",
       "      <td>6.0</td>\n",
       "      <td>8.578394</td>\n",
       "      <td>154.507887</td>\n",
       "      <td>13.0</td>\n",
       "      <td>electronics_computers</td>\n",
       "      <td>5.0</td>\n",
       "    </tr>\n",
       "    <tr>\n",
       "      <th>...</th>\n",
       "      <td>...</td>\n",
       "      <td>...</td>\n",
       "      <td>...</td>\n",
       "      <td>...</td>\n",
       "      <td>...</td>\n",
       "      <td>...</td>\n",
       "      <td>...</td>\n",
       "      <td>...</td>\n",
       "      <td>...</td>\n",
       "      <td>...</td>\n",
       "      <td>...</td>\n",
       "      <td>...</td>\n",
       "      <td>...</td>\n",
       "      <td>...</td>\n",
       "      <td>...</td>\n",
       "      <td>...</td>\n",
       "      <td>...</td>\n",
       "    </tr>\n",
       "    <tr>\n",
       "      <th>93345</th>\n",
       "      <td>fffcf5a5ff07b0908bd4e2dbc735a684</td>\n",
       "      <td>-8.362511</td>\n",
       "      <td>-36.562343</td>\n",
       "      <td>1</td>\n",
       "      <td>2017-06-08 21:00:36</td>\n",
       "      <td>2017-06-08 21:00:36</td>\n",
       "      <td>446</td>\n",
       "      <td>446.0</td>\n",
       "      <td>2067.42</td>\n",
       "      <td>2067.42</td>\n",
       "      <td>credit_card</td>\n",
       "      <td>10.0</td>\n",
       "      <td>12.029970</td>\n",
       "      <td>1996.470471</td>\n",
       "      <td>27.0</td>\n",
       "      <td>health_beauty</td>\n",
       "      <td>5.0</td>\n",
       "    </tr>\n",
       "    <tr>\n",
       "      <th>93346</th>\n",
       "      <td>fffea47cd6d3cc0a88bd621562a9d061</td>\n",
       "      <td>-12.217395</td>\n",
       "      <td>-38.959308</td>\n",
       "      <td>1</td>\n",
       "      <td>2017-12-10 20:07:56</td>\n",
       "      <td>2017-12-10 20:07:56</td>\n",
       "      <td>261</td>\n",
       "      <td>261.0</td>\n",
       "      <td>84.58</td>\n",
       "      <td>84.58</td>\n",
       "      <td>credit_card</td>\n",
       "      <td>1.0</td>\n",
       "      <td>23.279735</td>\n",
       "      <td>1527.201720</td>\n",
       "      <td>30.0</td>\n",
       "      <td>babies_kids</td>\n",
       "      <td>4.0</td>\n",
       "    </tr>\n",
       "    <tr>\n",
       "      <th>93347</th>\n",
       "      <td>ffff371b4d645b6ecea244b27531430a</td>\n",
       "      <td>-11.834552</td>\n",
       "      <td>-55.508110</td>\n",
       "      <td>1</td>\n",
       "      <td>2017-02-07 15:49:16</td>\n",
       "      <td>2017-02-07 15:49:16</td>\n",
       "      <td>567</td>\n",
       "      <td>567.0</td>\n",
       "      <td>112.46</td>\n",
       "      <td>112.46</td>\n",
       "      <td>credit_card</td>\n",
       "      <td>1.0</td>\n",
       "      <td>20.060466</td>\n",
       "      <td>1526.116170</td>\n",
       "      <td>14.0</td>\n",
       "      <td>automotive_motorcycle</td>\n",
       "      <td>5.0</td>\n",
       "    </tr>\n",
       "    <tr>\n",
       "      <th>93348</th>\n",
       "      <td>ffff5962728ec6157033ef9805bacc48</td>\n",
       "      <td>-21.126568</td>\n",
       "      <td>-41.672806</td>\n",
       "      <td>1</td>\n",
       "      <td>2018-05-02 15:17:41</td>\n",
       "      <td>2018-05-02 15:17:41</td>\n",
       "      <td>118</td>\n",
       "      <td>118.0</td>\n",
       "      <td>133.69</td>\n",
       "      <td>133.69</td>\n",
       "      <td>credit_card</td>\n",
       "      <td>5.0</td>\n",
       "      <td>13.980103</td>\n",
       "      <td>637.858806</td>\n",
       "      <td>11.0</td>\n",
       "      <td>fashion_clothing</td>\n",
       "      <td>5.0</td>\n",
       "    </tr>\n",
       "    <tr>\n",
       "      <th>93349</th>\n",
       "      <td>ffffd2657e2aad2907e67c3e9daecbeb</td>\n",
       "      <td>-25.447504</td>\n",
       "      <td>-49.441283</td>\n",
       "      <td>1</td>\n",
       "      <td>2017-05-02 20:18:45</td>\n",
       "      <td>2017-05-02 20:18:45</td>\n",
       "      <td>483</td>\n",
       "      <td>483.0</td>\n",
       "      <td>71.56</td>\n",
       "      <td>71.56</td>\n",
       "      <td>credit_card</td>\n",
       "      <td>4.0</td>\n",
       "      <td>20.360537</td>\n",
       "      <td>355.844254</td>\n",
       "      <td>7.0</td>\n",
       "      <td>health_beauty</td>\n",
       "      <td>5.0</td>\n",
       "    </tr>\n",
       "  </tbody>\n",
       "</table>\n",
       "<p>92746 rows × 17 columns</p>\n",
       "</div>"
      ],
      "text/plain": [
       "                     customer_unique_id  customer_lat  customer_lng  \\\n",
       "0      0000366f3b9a7992bf8c76cfdf3221e2    -23.340235    -46.830140   \n",
       "1      0000b849f77a49e4a4ce2b2a4ca5be3f    -23.559115    -46.787626   \n",
       "2      0000f46a3911fa3c0805444483337064    -27.542880    -48.633426   \n",
       "3      0000f6ccb0745a6a4b88665a16c9f078     -1.312214    -48.483159   \n",
       "4      0004aac84e0df4da2b147fca70cf8255    -23.505548    -47.469705   \n",
       "...                                 ...           ...           ...   \n",
       "93345  fffcf5a5ff07b0908bd4e2dbc735a684     -8.362511    -36.562343   \n",
       "93346  fffea47cd6d3cc0a88bd621562a9d061    -12.217395    -38.959308   \n",
       "93347  ffff371b4d645b6ecea244b27531430a    -11.834552    -55.508110   \n",
       "93348  ffff5962728ec6157033ef9805bacc48    -21.126568    -41.672806   \n",
       "93349  ffffd2657e2aad2907e67c3e9daecbeb    -25.447504    -49.441283   \n",
       "\n",
       "       orders_number first_purchase_date  last_purchase_date  recency  \\\n",
       "0                  1 2018-05-10 10:56:27 2018-05-10 10:56:27      111   \n",
       "1                  1 2018-05-07 11:11:27 2018-05-07 11:11:27      114   \n",
       "2                  1 2017-03-10 21:05:03 2017-03-10 21:05:03      536   \n",
       "3                  1 2017-10-12 20:29:41 2017-10-12 20:29:41      320   \n",
       "4                  1 2017-11-14 19:45:42 2017-11-14 19:45:42      287   \n",
       "...              ...                 ...                 ...      ...   \n",
       "93345              1 2017-06-08 21:00:36 2017-06-08 21:00:36      446   \n",
       "93346              1 2017-12-10 20:07:56 2017-12-10 20:07:56      261   \n",
       "93347              1 2017-02-07 15:49:16 2017-02-07 15:49:16      567   \n",
       "93348              1 2018-05-02 15:17:41 2018-05-02 15:17:41      118   \n",
       "93349              1 2017-05-02 20:18:45 2017-05-02 20:18:45      483   \n",
       "\n",
       "       frequency  avg_spent  total_spent preferred_payment_type  \\\n",
       "0          111.0     141.90       141.90            credit_card   \n",
       "1          114.0      27.19        27.19            credit_card   \n",
       "2          536.0      86.22        86.22            credit_card   \n",
       "3          320.0      43.62        43.62            credit_card   \n",
       "4          287.0     196.89       196.89            credit_card   \n",
       "...          ...        ...          ...                    ...   \n",
       "93345      446.0    2067.42      2067.42            credit_card   \n",
       "93346      261.0      84.58        84.58            credit_card   \n",
       "93347      567.0     112.46       112.46            credit_card   \n",
       "93348      118.0     133.69       133.69            credit_card   \n",
       "93349      483.0      71.56        71.56            credit_card   \n",
       "\n",
       "       avg_payment_installments  shipping_fees_proportion  \\\n",
       "0                           8.0                  8.456660   \n",
       "1                           1.0                 30.489150   \n",
       "2                           8.0                 19.972164   \n",
       "3                           4.0                 40.417240   \n",
       "4                           6.0                  8.578394   \n",
       "...                         ...                       ...   \n",
       "93345                      10.0                 12.029970   \n",
       "93346                       1.0                 23.279735   \n",
       "93347                       1.0                 20.060466   \n",
       "93348                       5.0                 13.980103   \n",
       "93349                       4.0                 20.360537   \n",
       "\n",
       "       avg_customer_seller_distance_km  avg_delivery_time  \\\n",
       "0                           110.568636                6.0   \n",
       "1                            22.168333                3.0   \n",
       "2                           516.938836               25.0   \n",
       "3                          2481.287188               20.0   \n",
       "4                           154.507887               13.0   \n",
       "...                                ...                ...   \n",
       "93345                      1996.470471               27.0   \n",
       "93346                      1527.201720               30.0   \n",
       "93347                      1526.116170               14.0   \n",
       "93348                       637.858806               11.0   \n",
       "93349                       355.844254                7.0   \n",
       "\n",
       "          preferred_category  avg_review_score  \n",
       "0        home_kitchen_garden               5.0  \n",
       "1              health_beauty               4.0  \n",
       "2        home_kitchen_garden               3.0  \n",
       "3      electronics_computers               4.0  \n",
       "4      electronics_computers               5.0  \n",
       "...                      ...               ...  \n",
       "93345          health_beauty               5.0  \n",
       "93346            babies_kids               4.0  \n",
       "93347  automotive_motorcycle               5.0  \n",
       "93348       fashion_clothing               5.0  \n",
       "93349          health_beauty               5.0  \n",
       "\n",
       "[92746 rows x 17 columns]"
      ]
     },
     "metadata": {},
     "output_type": "display_data"
    },
    {
     "name": "stdout",
     "output_type": "stream",
     "text": [
      "Valeurs nulles dans le dataset : 0\n"
     ]
    }
   ],
   "source": [
    "display(data)\n",
    "print(\"Valeurs nulles dans le dataset :\", data.isnull().sum().sum())"
   ]
  },
  {
   "cell_type": "markdown",
   "metadata": {},
   "source": [
    "### **Vérification du type de chaque colonne**"
   ]
  },
  {
   "cell_type": "code",
   "execution_count": 27,
   "metadata": {},
   "outputs": [
    {
     "name": "stdout",
     "output_type": "stream",
     "text": [
      "Type des différentes variables :\n"
     ]
    },
    {
     "data": {
      "text/plain": [
       "customer_unique_id                         object\n",
       "customer_lat                              float64\n",
       "customer_lng                              float64\n",
       "orders_number                               int64\n",
       "first_purchase_date                datetime64[ns]\n",
       "last_purchase_date                 datetime64[ns]\n",
       "recency                                     int64\n",
       "frequency                                 float64\n",
       "avg_spent                                 float64\n",
       "total_spent                               float64\n",
       "preferred_payment_type                     object\n",
       "avg_payment_installments                  float64\n",
       "shipping_fees_proportion                  float64\n",
       "avg_customer_seller_distance_km           float64\n",
       "avg_delivery_time                         float64\n",
       "preferred_category                         object\n",
       "avg_review_score                          float64\n",
       "dtype: object"
      ]
     },
     "execution_count": 27,
     "metadata": {},
     "output_type": "execute_result"
    }
   ],
   "source": [
    "print(\"Type des différentes variables :\")\n",
    "data.dtypes"
   ]
  },
  {
   "cell_type": "markdown",
   "metadata": {},
   "source": [
    "Pas de problème ici."
   ]
  },
  {
   "cell_type": "markdown",
   "metadata": {},
   "source": [
    "### **Vérification des valeurs prises par les variables**"
   ]
  },
  {
   "cell_type": "code",
   "execution_count": 28,
   "metadata": {},
   "outputs": [
    {
     "name": "stdout",
     "output_type": "stream",
     "text": [
      "Valeurs prises par les variables avant traitement : \n"
     ]
    },
    {
     "data": {
      "text/html": [
       "<div>\n",
       "<style scoped>\n",
       "    .dataframe tbody tr th:only-of-type {\n",
       "        vertical-align: middle;\n",
       "    }\n",
       "\n",
       "    .dataframe tbody tr th {\n",
       "        vertical-align: top;\n",
       "    }\n",
       "\n",
       "    .dataframe thead th {\n",
       "        text-align: right;\n",
       "    }\n",
       "</style>\n",
       "<table border=\"1\" class=\"dataframe\">\n",
       "  <thead>\n",
       "    <tr style=\"text-align: right;\">\n",
       "      <th></th>\n",
       "      <th>customer_lat</th>\n",
       "      <th>customer_lng</th>\n",
       "      <th>orders_number</th>\n",
       "      <th>recency</th>\n",
       "      <th>frequency</th>\n",
       "      <th>avg_spent</th>\n",
       "      <th>total_spent</th>\n",
       "      <th>avg_payment_installments</th>\n",
       "      <th>shipping_fees_proportion</th>\n",
       "      <th>avg_customer_seller_distance_km</th>\n",
       "      <th>avg_delivery_time</th>\n",
       "      <th>avg_review_score</th>\n",
       "    </tr>\n",
       "  </thead>\n",
       "  <tbody>\n",
       "    <tr>\n",
       "      <th>count</th>\n",
       "      <td>92746.000000</td>\n",
       "      <td>92746.000000</td>\n",
       "      <td>92746.000000</td>\n",
       "      <td>92746.000000</td>\n",
       "      <td>92746.000000</td>\n",
       "      <td>92746.000000</td>\n",
       "      <td>92746.000000</td>\n",
       "      <td>92746.000000</td>\n",
       "      <td>92746.000000</td>\n",
       "      <td>92746.000000</td>\n",
       "      <td>92746.000000</td>\n",
       "      <td>92746.000000</td>\n",
       "    </tr>\n",
       "    <tr>\n",
       "      <th>mean</th>\n",
       "      <td>-21.192936</td>\n",
       "      <td>-46.191889</td>\n",
       "      <td>1.033543</td>\n",
       "      <td>236.780756</td>\n",
       "      <td>234.644806</td>\n",
       "      <td>160.061105</td>\n",
       "      <td>164.954233</td>\n",
       "      <td>2.913446</td>\n",
       "      <td>19.519871</td>\n",
       "      <td>600.907084</td>\n",
       "      <td>12.062541</td>\n",
       "      <td>4.153647</td>\n",
       "    </tr>\n",
       "    <tr>\n",
       "      <th>std</th>\n",
       "      <td>5.604305</td>\n",
       "      <td>4.051277</td>\n",
       "      <td>0.209553</td>\n",
       "      <td>152.589336</td>\n",
       "      <td>151.794657</td>\n",
       "      <td>218.250605</td>\n",
       "      <td>225.057315</td>\n",
       "      <td>2.689083</td>\n",
       "      <td>12.311323</td>\n",
       "      <td>593.178139</td>\n",
       "      <td>9.465400</td>\n",
       "      <td>1.280116</td>\n",
       "    </tr>\n",
       "    <tr>\n",
       "      <th>min</th>\n",
       "      <td>-33.689948</td>\n",
       "      <td>-72.668881</td>\n",
       "      <td>1.000000</td>\n",
       "      <td>0.000000</td>\n",
       "      <td>0.000000</td>\n",
       "      <td>9.590000</td>\n",
       "      <td>9.590000</td>\n",
       "      <td>0.000000</td>\n",
       "      <td>0.000000</td>\n",
       "      <td>0.000000</td>\n",
       "      <td>0.000000</td>\n",
       "      <td>1.000000</td>\n",
       "    </tr>\n",
       "    <tr>\n",
       "      <th>25%</th>\n",
       "      <td>-23.589481</td>\n",
       "      <td>-48.119196</td>\n",
       "      <td>1.000000</td>\n",
       "      <td>113.000000</td>\n",
       "      <td>113.000000</td>\n",
       "      <td>62.310000</td>\n",
       "      <td>63.010000</td>\n",
       "      <td>1.000000</td>\n",
       "      <td>10.496247</td>\n",
       "      <td>189.759568</td>\n",
       "      <td>6.000000</td>\n",
       "      <td>4.000000</td>\n",
       "    </tr>\n",
       "    <tr>\n",
       "      <th>50%</th>\n",
       "      <td>-22.922759</td>\n",
       "      <td>-46.631239</td>\n",
       "      <td>1.000000</td>\n",
       "      <td>218.000000</td>\n",
       "      <td>215.000000</td>\n",
       "      <td>105.525000</td>\n",
       "      <td>107.780000</td>\n",
       "      <td>2.000000</td>\n",
       "      <td>16.723122</td>\n",
       "      <td>433.546627</td>\n",
       "      <td>10.000000</td>\n",
       "      <td>5.000000</td>\n",
       "    </tr>\n",
       "    <tr>\n",
       "      <th>75%</th>\n",
       "      <td>-20.140216</td>\n",
       "      <td>-43.653556</td>\n",
       "      <td>1.000000</td>\n",
       "      <td>345.000000</td>\n",
       "      <td>341.000000</td>\n",
       "      <td>176.340000</td>\n",
       "      <td>182.320000</td>\n",
       "      <td>4.000000</td>\n",
       "      <td>25.809863</td>\n",
       "      <td>798.269264</td>\n",
       "      <td>15.000000</td>\n",
       "      <td>5.000000</td>\n",
       "    </tr>\n",
       "    <tr>\n",
       "      <th>max</th>\n",
       "      <td>42.184003</td>\n",
       "      <td>-8.723762</td>\n",
       "      <td>15.000000</td>\n",
       "      <td>694.000000</td>\n",
       "      <td>694.000000</td>\n",
       "      <td>13664.080000</td>\n",
       "      <td>13664.080000</td>\n",
       "      <td>24.000000</td>\n",
       "      <td>95.545073</td>\n",
       "      <td>8677.911622</td>\n",
       "      <td>208.000000</td>\n",
       "      <td>5.000000</td>\n",
       "    </tr>\n",
       "  </tbody>\n",
       "</table>\n",
       "</div>"
      ],
      "text/plain": [
       "       customer_lat  customer_lng  orders_number       recency     frequency  \\\n",
       "count  92746.000000  92746.000000   92746.000000  92746.000000  92746.000000   \n",
       "mean     -21.192936    -46.191889       1.033543    236.780756    234.644806   \n",
       "std        5.604305      4.051277       0.209553    152.589336    151.794657   \n",
       "min      -33.689948    -72.668881       1.000000      0.000000      0.000000   \n",
       "25%      -23.589481    -48.119196       1.000000    113.000000    113.000000   \n",
       "50%      -22.922759    -46.631239       1.000000    218.000000    215.000000   \n",
       "75%      -20.140216    -43.653556       1.000000    345.000000    341.000000   \n",
       "max       42.184003     -8.723762      15.000000    694.000000    694.000000   \n",
       "\n",
       "          avg_spent   total_spent  avg_payment_installments  \\\n",
       "count  92746.000000  92746.000000              92746.000000   \n",
       "mean     160.061105    164.954233                  2.913446   \n",
       "std      218.250605    225.057315                  2.689083   \n",
       "min        9.590000      9.590000                  0.000000   \n",
       "25%       62.310000     63.010000                  1.000000   \n",
       "50%      105.525000    107.780000                  2.000000   \n",
       "75%      176.340000    182.320000                  4.000000   \n",
       "max    13664.080000  13664.080000                 24.000000   \n",
       "\n",
       "       shipping_fees_proportion  avg_customer_seller_distance_km  \\\n",
       "count              92746.000000                     92746.000000   \n",
       "mean                  19.519871                       600.907084   \n",
       "std                   12.311323                       593.178139   \n",
       "min                    0.000000                         0.000000   \n",
       "25%                   10.496247                       189.759568   \n",
       "50%                   16.723122                       433.546627   \n",
       "75%                   25.809863                       798.269264   \n",
       "max                   95.545073                      8677.911622   \n",
       "\n",
       "       avg_delivery_time  avg_review_score  \n",
       "count       92746.000000      92746.000000  \n",
       "mean           12.062541          4.153647  \n",
       "std             9.465400          1.280116  \n",
       "min             0.000000          1.000000  \n",
       "25%             6.000000          4.000000  \n",
       "50%            10.000000          5.000000  \n",
       "75%            15.000000          5.000000  \n",
       "max           208.000000          5.000000  "
      ]
     },
     "metadata": {},
     "output_type": "display_data"
    }
   ],
   "source": [
    "print('Valeurs prises par les variables avant traitement : ')\n",
    "display(data.describe())"
   ]
  },
  {
   "cell_type": "markdown",
   "metadata": {},
   "source": [
    "- *total_spent*\n",
    "\n",
    "Cette variable peut atteindre plus de 13000. Bien que ceci soit plausible, ces rares cas de figure risquent de perturber nos modèles à venir, je décide de remplacer les valeurs supérieures à 5000 par la médiane (distribution non symétrique)."
   ]
  },
  {
   "cell_type": "code",
   "execution_count": 29,
   "metadata": {},
   "outputs": [],
   "source": [
    "data['total_spent'].loc[data['total_spent'] > 5000] = data['total_spent'].median()\n",
    "# Suite à cette modification, je dois recalculer avg_spent\n",
    "data['avg_spent'] = data['total_spent'] / data['orders_number']"
   ]
  },
  {
   "cell_type": "markdown",
   "metadata": {},
   "source": [
    "- *avg_payment_installments*\n",
    "\n",
    "Cette variable peut monter jusqu'à 24. Bien qu'il soit possible que certains vendeurs proposent des paiements sur 24 mois, ces rares cas de figure risquent de perturber nos modèles à venir, je décide de remplacer les valeurs supérieures à 12 par la médiane (distribution non symétrique)."
   ]
  },
  {
   "cell_type": "code",
   "execution_count": 30,
   "metadata": {},
   "outputs": [],
   "source": [
    "data['avg_payment_installments'].loc[data['avg_payment_installments'] > 12] = data['avg_payment_installments'].median()"
   ]
  },
  {
   "cell_type": "markdown",
   "metadata": {},
   "source": [
    "Il y a quelques cas où *avg_payment_installments* = 0, c'est aberrant, je remplace par 1."
   ]
  },
  {
   "cell_type": "code",
   "execution_count": 31,
   "metadata": {},
   "outputs": [],
   "source": [
    "data['avg_payment_installments'].loc[data['avg_payment_installments'] < 1] = 1"
   ]
  },
  {
   "cell_type": "markdown",
   "metadata": {},
   "source": [
    "- *shipping_fees_proportion*\n",
    "\n",
    "Cette variable peut monter jusqu'à 95%. Après vérifications sur les commandes concernées, ceci est atypique, mais pas aberrant : matériaux peu onéreux mais très lourds.<br>\n",
    "Cependant, ces rares cas de figure risquent de perturber nos modèles à venir, je décide de remplacer les valeurs supérieures à 70% par la médiane (distribution non symétrique)."
   ]
  },
  {
   "cell_type": "code",
   "execution_count": 32,
   "metadata": {},
   "outputs": [],
   "source": [
    "data['shipping_fees_proportion'].loc[data['shipping_fees_proportion'] > 70] = data['shipping_fees_proportion'].median()"
   ]
  },
  {
   "cell_type": "markdown",
   "metadata": {},
   "source": [
    "- *avg_customer_seller_distance_km*\n",
    "\n",
    "La plus grande ligne droite possible au Brésil est d'environ 4300 km.<br>\n",
    "Pour les quelques valeurs qui dépassent cette limite, je remplace par la mediane (distribution non symétrique)."
   ]
  },
  {
   "cell_type": "code",
   "execution_count": 33,
   "metadata": {},
   "outputs": [],
   "source": [
    "data['avg_customer_seller_distance_km'].loc[data['avg_customer_seller_distance_km'] > 4300] = data['avg_customer_seller_distance_km'].median()"
   ]
  },
  {
   "cell_type": "markdown",
   "metadata": {},
   "source": [
    "- *avg_delivery_time*\n",
    "\n",
    "Je pars du principe que quand la valeur du délais de livraison est supérieur à 60, c'est que l'information que la commande a bien été livrée est parvenue tardivement.<br>\n",
    "Je remplace par la médiane (distribution non symétrique)."
   ]
  },
  {
   "cell_type": "code",
   "execution_count": 34,
   "metadata": {},
   "outputs": [],
   "source": [
    "data['avg_delivery_time'].loc[data['avg_delivery_time'] > 60] = data['avg_delivery_time'].median()"
   ]
  },
  {
   "cell_type": "markdown",
   "metadata": {},
   "source": [
    "Quand *avg_delivery_time* est < à 1, c'est aberrant, je remplace par 1."
   ]
  },
  {
   "cell_type": "code",
   "execution_count": 35,
   "metadata": {},
   "outputs": [],
   "source": [
    "data['avg_delivery_time'].loc[data['avg_delivery_time'] < 1] = 1"
   ]
  },
  {
   "cell_type": "code",
   "execution_count": 36,
   "metadata": {},
   "outputs": [
    {
     "name": "stdout",
     "output_type": "stream",
     "text": [
      "Valeurs prises par les variables après traitement : \n"
     ]
    },
    {
     "data": {
      "text/html": [
       "<div>\n",
       "<style scoped>\n",
       "    .dataframe tbody tr th:only-of-type {\n",
       "        vertical-align: middle;\n",
       "    }\n",
       "\n",
       "    .dataframe tbody tr th {\n",
       "        vertical-align: top;\n",
       "    }\n",
       "\n",
       "    .dataframe thead th {\n",
       "        text-align: right;\n",
       "    }\n",
       "</style>\n",
       "<table border=\"1\" class=\"dataframe\">\n",
       "  <thead>\n",
       "    <tr style=\"text-align: right;\">\n",
       "      <th></th>\n",
       "      <th>customer_lat</th>\n",
       "      <th>customer_lng</th>\n",
       "      <th>orders_number</th>\n",
       "      <th>recency</th>\n",
       "      <th>frequency</th>\n",
       "      <th>avg_spent</th>\n",
       "      <th>total_spent</th>\n",
       "      <th>avg_payment_installments</th>\n",
       "      <th>shipping_fees_proportion</th>\n",
       "      <th>avg_customer_seller_distance_km</th>\n",
       "      <th>avg_delivery_time</th>\n",
       "      <th>avg_review_score</th>\n",
       "    </tr>\n",
       "  </thead>\n",
       "  <tbody>\n",
       "    <tr>\n",
       "      <th>count</th>\n",
       "      <td>92746.000000</td>\n",
       "      <td>92746.000000</td>\n",
       "      <td>92746.000000</td>\n",
       "      <td>92746.000000</td>\n",
       "      <td>92746.000000</td>\n",
       "      <td>92746.000000</td>\n",
       "      <td>92746.000000</td>\n",
       "      <td>92746.000000</td>\n",
       "      <td>92746.000000</td>\n",
       "      <td>92746.000000</td>\n",
       "      <td>92746.000000</td>\n",
       "      <td>92746.000000</td>\n",
       "    </tr>\n",
       "    <tr>\n",
       "      <th>mean</th>\n",
       "      <td>-21.192936</td>\n",
       "      <td>-46.191889</td>\n",
       "      <td>1.033543</td>\n",
       "      <td>236.780756</td>\n",
       "      <td>234.644806</td>\n",
       "      <td>159.588098</td>\n",
       "      <td>164.440988</td>\n",
       "      <td>2.887380</td>\n",
       "      <td>19.423973</td>\n",
       "      <td>600.665429</td>\n",
       "      <td>11.838682</td>\n",
       "      <td>4.153647</td>\n",
       "    </tr>\n",
       "    <tr>\n",
       "      <th>std</th>\n",
       "      <td>5.604305</td>\n",
       "      <td>4.051277</td>\n",
       "      <td>0.209553</td>\n",
       "      <td>152.589336</td>\n",
       "      <td>151.794657</td>\n",
       "      <td>208.907907</td>\n",
       "      <td>214.975194</td>\n",
       "      <td>2.621501</td>\n",
       "      <td>12.104951</td>\n",
       "      <td>592.017439</td>\n",
       "      <td>8.332400</td>\n",
       "      <td>1.280116</td>\n",
       "    </tr>\n",
       "    <tr>\n",
       "      <th>min</th>\n",
       "      <td>-33.689948</td>\n",
       "      <td>-72.668881</td>\n",
       "      <td>1.000000</td>\n",
       "      <td>0.000000</td>\n",
       "      <td>0.000000</td>\n",
       "      <td>9.590000</td>\n",
       "      <td>9.590000</td>\n",
       "      <td>1.000000</td>\n",
       "      <td>0.000000</td>\n",
       "      <td>0.000000</td>\n",
       "      <td>1.000000</td>\n",
       "      <td>1.000000</td>\n",
       "    </tr>\n",
       "    <tr>\n",
       "      <th>25%</th>\n",
       "      <td>-23.589481</td>\n",
       "      <td>-48.119196</td>\n",
       "      <td>1.000000</td>\n",
       "      <td>113.000000</td>\n",
       "      <td>113.000000</td>\n",
       "      <td>62.310000</td>\n",
       "      <td>63.010000</td>\n",
       "      <td>1.000000</td>\n",
       "      <td>10.496247</td>\n",
       "      <td>189.759568</td>\n",
       "      <td>6.000000</td>\n",
       "      <td>4.000000</td>\n",
       "    </tr>\n",
       "    <tr>\n",
       "      <th>50%</th>\n",
       "      <td>-22.922759</td>\n",
       "      <td>-46.631239</td>\n",
       "      <td>1.000000</td>\n",
       "      <td>218.000000</td>\n",
       "      <td>215.000000</td>\n",
       "      <td>105.520000</td>\n",
       "      <td>107.780000</td>\n",
       "      <td>2.000000</td>\n",
       "      <td>16.722934</td>\n",
       "      <td>433.542414</td>\n",
       "      <td>10.000000</td>\n",
       "      <td>5.000000</td>\n",
       "    </tr>\n",
       "    <tr>\n",
       "      <th>75%</th>\n",
       "      <td>-20.140216</td>\n",
       "      <td>-43.653556</td>\n",
       "      <td>1.000000</td>\n",
       "      <td>345.000000</td>\n",
       "      <td>341.000000</td>\n",
       "      <td>176.330000</td>\n",
       "      <td>182.290000</td>\n",
       "      <td>4.000000</td>\n",
       "      <td>25.701938</td>\n",
       "      <td>798.174926</td>\n",
       "      <td>15.000000</td>\n",
       "      <td>5.000000</td>\n",
       "    </tr>\n",
       "    <tr>\n",
       "      <th>max</th>\n",
       "      <td>42.184003</td>\n",
       "      <td>-8.723762</td>\n",
       "      <td>15.000000</td>\n",
       "      <td>694.000000</td>\n",
       "      <td>694.000000</td>\n",
       "      <td>4764.340000</td>\n",
       "      <td>4764.340000</td>\n",
       "      <td>12.000000</td>\n",
       "      <td>69.989077</td>\n",
       "      <td>3927.406027</td>\n",
       "      <td>60.000000</td>\n",
       "      <td>5.000000</td>\n",
       "    </tr>\n",
       "  </tbody>\n",
       "</table>\n",
       "</div>"
      ],
      "text/plain": [
       "       customer_lat  customer_lng  orders_number       recency     frequency  \\\n",
       "count  92746.000000  92746.000000   92746.000000  92746.000000  92746.000000   \n",
       "mean     -21.192936    -46.191889       1.033543    236.780756    234.644806   \n",
       "std        5.604305      4.051277       0.209553    152.589336    151.794657   \n",
       "min      -33.689948    -72.668881       1.000000      0.000000      0.000000   \n",
       "25%      -23.589481    -48.119196       1.000000    113.000000    113.000000   \n",
       "50%      -22.922759    -46.631239       1.000000    218.000000    215.000000   \n",
       "75%      -20.140216    -43.653556       1.000000    345.000000    341.000000   \n",
       "max       42.184003     -8.723762      15.000000    694.000000    694.000000   \n",
       "\n",
       "          avg_spent   total_spent  avg_payment_installments  \\\n",
       "count  92746.000000  92746.000000              92746.000000   \n",
       "mean     159.588098    164.440988                  2.887380   \n",
       "std      208.907907    214.975194                  2.621501   \n",
       "min        9.590000      9.590000                  1.000000   \n",
       "25%       62.310000     63.010000                  1.000000   \n",
       "50%      105.520000    107.780000                  2.000000   \n",
       "75%      176.330000    182.290000                  4.000000   \n",
       "max     4764.340000   4764.340000                 12.000000   \n",
       "\n",
       "       shipping_fees_proportion  avg_customer_seller_distance_km  \\\n",
       "count              92746.000000                     92746.000000   \n",
       "mean                  19.423973                       600.665429   \n",
       "std                   12.104951                       592.017439   \n",
       "min                    0.000000                         0.000000   \n",
       "25%                   10.496247                       189.759568   \n",
       "50%                   16.722934                       433.542414   \n",
       "75%                   25.701938                       798.174926   \n",
       "max                   69.989077                      3927.406027   \n",
       "\n",
       "       avg_delivery_time  avg_review_score  \n",
       "count       92746.000000      92746.000000  \n",
       "mean           11.838682          4.153647  \n",
       "std             8.332400          1.280116  \n",
       "min             1.000000          1.000000  \n",
       "25%             6.000000          4.000000  \n",
       "50%            10.000000          5.000000  \n",
       "75%            15.000000          5.000000  \n",
       "max            60.000000          5.000000  "
      ]
     },
     "metadata": {},
     "output_type": "display_data"
    }
   ],
   "source": [
    "print('Valeurs prises par les variables après traitement : ')\n",
    "display(data.describe())"
   ]
  },
  {
   "cell_type": "markdown",
   "metadata": {},
   "source": [
    "## **Export du dataset global pour pouvoir les utiliser dans d'autres notebooks**"
   ]
  },
  {
   "cell_type": "code",
   "execution_count": 37,
   "metadata": {},
   "outputs": [],
   "source": [
    "# Export du dataset data\n",
    "if os.path.isfile('data_global.xlsx') == False:\n",
    "    data.to_excel('data_global.xlsx', index = False)\n",
    "    print(\"Fichier créé.\")\n",
    "else:\n",
    "    print(\"Le fichier 'data_global.xlsx' existe déjà, si vous souhaitez en exporter une nouvelle version, supprimez l'ancien.\")"
   ]
  }
 ],
 "metadata": {
  "kernelspec": {
   "display_name": "base",
   "language": "python",
   "name": "python3"
  },
  "language_info": {
   "codemirror_mode": {
    "name": "ipython",
    "version": 3
   },
   "file_extension": ".py",
   "mimetype": "text/x-python",
   "name": "python",
   "nbconvert_exporter": "python",
   "pygments_lexer": "ipython3",
   "version": "3.10.9"
  },
  "orig_nbformat": 4
 },
 "nbformat": 4,
 "nbformat_minor": 2
}
